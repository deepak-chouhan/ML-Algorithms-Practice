{
 "cells": [
  {
   "cell_type": "markdown",
   "id": "5cf1f6ff",
   "metadata": {},
   "source": [
    "# Math Behind Simple Linear Regression"
   ]
  },
  {
   "cell_type": "code",
   "execution_count": 1,
   "id": "7a6faf42",
   "metadata": {},
   "outputs": [],
   "source": [
    "# importing Libraries\n",
    "import pandas as pd\n",
    "import numpy as np\n",
    "import matplotlib.pyplot as plt"
   ]
  },
  {
   "cell_type": "markdown",
   "id": "414fbfaa",
   "metadata": {},
   "source": [
    "This is our sample Data `x` is our Input Feature, and `y` is what we are predicting"
   ]
  },
  {
   "cell_type": "code",
   "execution_count": 2,
   "id": "b9f58dab",
   "metadata": {},
   "outputs": [],
   "source": [
    "x = [6, 2, 10, 4, 8]\n",
    "y = [9, 11, 5, 8, 7]\n",
    "\n",
    "df = pd.DataFrame(x, columns=[\"x\"])\n",
    "df[\"y\"] = y"
   ]
  },
  {
   "cell_type": "code",
   "execution_count": 3,
   "id": "28603a62",
   "metadata": {},
   "outputs": [
    {
     "data": {
      "text/html": [
       "<div>\n",
       "<style scoped>\n",
       "    .dataframe tbody tr th:only-of-type {\n",
       "        vertical-align: middle;\n",
       "    }\n",
       "\n",
       "    .dataframe tbody tr th {\n",
       "        vertical-align: top;\n",
       "    }\n",
       "\n",
       "    .dataframe thead th {\n",
       "        text-align: right;\n",
       "    }\n",
       "</style>\n",
       "<table border=\"1\" class=\"dataframe\">\n",
       "  <thead>\n",
       "    <tr style=\"text-align: right;\">\n",
       "      <th></th>\n",
       "      <th>x</th>\n",
       "      <th>y</th>\n",
       "    </tr>\n",
       "  </thead>\n",
       "  <tbody>\n",
       "    <tr>\n",
       "      <th>0</th>\n",
       "      <td>6</td>\n",
       "      <td>9</td>\n",
       "    </tr>\n",
       "    <tr>\n",
       "      <th>1</th>\n",
       "      <td>2</td>\n",
       "      <td>11</td>\n",
       "    </tr>\n",
       "    <tr>\n",
       "      <th>2</th>\n",
       "      <td>10</td>\n",
       "      <td>5</td>\n",
       "    </tr>\n",
       "    <tr>\n",
       "      <th>3</th>\n",
       "      <td>4</td>\n",
       "      <td>8</td>\n",
       "    </tr>\n",
       "    <tr>\n",
       "      <th>4</th>\n",
       "      <td>8</td>\n",
       "      <td>7</td>\n",
       "    </tr>\n",
       "  </tbody>\n",
       "</table>\n",
       "</div>"
      ],
      "text/plain": [
       "    x   y\n",
       "0   6   9\n",
       "1   2  11\n",
       "2  10   5\n",
       "3   4   8\n",
       "4   8   7"
      ]
     },
     "execution_count": 3,
     "metadata": {},
     "output_type": "execute_result"
    }
   ],
   "source": [
    "df"
   ]
  },
  {
   "cell_type": "markdown",
   "id": "7ae3da98",
   "metadata": {},
   "source": [
    "Calculate the **Square** for column `x` and `y` for each example"
   ]
  },
  {
   "cell_type": "code",
   "execution_count": 4,
   "id": "6262f20d",
   "metadata": {},
   "outputs": [
    {
     "data": {
      "text/html": [
       "<div>\n",
       "<style scoped>\n",
       "    .dataframe tbody tr th:only-of-type {\n",
       "        vertical-align: middle;\n",
       "    }\n",
       "\n",
       "    .dataframe tbody tr th {\n",
       "        vertical-align: top;\n",
       "    }\n",
       "\n",
       "    .dataframe thead th {\n",
       "        text-align: right;\n",
       "    }\n",
       "</style>\n",
       "<table border=\"1\" class=\"dataframe\">\n",
       "  <thead>\n",
       "    <tr style=\"text-align: right;\">\n",
       "      <th></th>\n",
       "      <th>x</th>\n",
       "      <th>y</th>\n",
       "      <th>x_sqr</th>\n",
       "      <th>y_sqr</th>\n",
       "    </tr>\n",
       "  </thead>\n",
       "  <tbody>\n",
       "    <tr>\n",
       "      <th>0</th>\n",
       "      <td>6</td>\n",
       "      <td>9</td>\n",
       "      <td>36</td>\n",
       "      <td>81</td>\n",
       "    </tr>\n",
       "    <tr>\n",
       "      <th>1</th>\n",
       "      <td>2</td>\n",
       "      <td>11</td>\n",
       "      <td>4</td>\n",
       "      <td>121</td>\n",
       "    </tr>\n",
       "    <tr>\n",
       "      <th>2</th>\n",
       "      <td>10</td>\n",
       "      <td>5</td>\n",
       "      <td>100</td>\n",
       "      <td>25</td>\n",
       "    </tr>\n",
       "    <tr>\n",
       "      <th>3</th>\n",
       "      <td>4</td>\n",
       "      <td>8</td>\n",
       "      <td>16</td>\n",
       "      <td>64</td>\n",
       "    </tr>\n",
       "    <tr>\n",
       "      <th>4</th>\n",
       "      <td>8</td>\n",
       "      <td>7</td>\n",
       "      <td>64</td>\n",
       "      <td>49</td>\n",
       "    </tr>\n",
       "  </tbody>\n",
       "</table>\n",
       "</div>"
      ],
      "text/plain": [
       "    x   y  x_sqr  y_sqr\n",
       "0   6   9     36     81\n",
       "1   2  11      4    121\n",
       "2  10   5    100     25\n",
       "3   4   8     16     64\n",
       "4   8   7     64     49"
      ]
     },
     "execution_count": 4,
     "metadata": {},
     "output_type": "execute_result"
    }
   ],
   "source": [
    "df[\"x_sqr\"] = np.square(df[\"x\"])\n",
    "df[\"y_sqr\"] = np.square(df[\"y\"])\n",
    "df"
   ]
  },
  {
   "cell_type": "markdown",
   "id": "23247859",
   "metadata": {},
   "source": [
    "Calculate **x*y** for each ith example"
   ]
  },
  {
   "cell_type": "code",
   "execution_count": 5,
   "id": "3286d80b",
   "metadata": {},
   "outputs": [
    {
     "data": {
      "text/html": [
       "<div>\n",
       "<style scoped>\n",
       "    .dataframe tbody tr th:only-of-type {\n",
       "        vertical-align: middle;\n",
       "    }\n",
       "\n",
       "    .dataframe tbody tr th {\n",
       "        vertical-align: top;\n",
       "    }\n",
       "\n",
       "    .dataframe thead th {\n",
       "        text-align: right;\n",
       "    }\n",
       "</style>\n",
       "<table border=\"1\" class=\"dataframe\">\n",
       "  <thead>\n",
       "    <tr style=\"text-align: right;\">\n",
       "      <th></th>\n",
       "      <th>x</th>\n",
       "      <th>y</th>\n",
       "      <th>x_sqr</th>\n",
       "      <th>y_sqr</th>\n",
       "      <th>xy</th>\n",
       "    </tr>\n",
       "  </thead>\n",
       "  <tbody>\n",
       "    <tr>\n",
       "      <th>0</th>\n",
       "      <td>6</td>\n",
       "      <td>9</td>\n",
       "      <td>36</td>\n",
       "      <td>81</td>\n",
       "      <td>54</td>\n",
       "    </tr>\n",
       "    <tr>\n",
       "      <th>1</th>\n",
       "      <td>2</td>\n",
       "      <td>11</td>\n",
       "      <td>4</td>\n",
       "      <td>121</td>\n",
       "      <td>22</td>\n",
       "    </tr>\n",
       "    <tr>\n",
       "      <th>2</th>\n",
       "      <td>10</td>\n",
       "      <td>5</td>\n",
       "      <td>100</td>\n",
       "      <td>25</td>\n",
       "      <td>50</td>\n",
       "    </tr>\n",
       "    <tr>\n",
       "      <th>3</th>\n",
       "      <td>4</td>\n",
       "      <td>8</td>\n",
       "      <td>16</td>\n",
       "      <td>64</td>\n",
       "      <td>32</td>\n",
       "    </tr>\n",
       "    <tr>\n",
       "      <th>4</th>\n",
       "      <td>8</td>\n",
       "      <td>7</td>\n",
       "      <td>64</td>\n",
       "      <td>49</td>\n",
       "      <td>56</td>\n",
       "    </tr>\n",
       "  </tbody>\n",
       "</table>\n",
       "</div>"
      ],
      "text/plain": [
       "    x   y  x_sqr  y_sqr  xy\n",
       "0   6   9     36     81  54\n",
       "1   2  11      4    121  22\n",
       "2  10   5    100     25  50\n",
       "3   4   8     16     64  32\n",
       "4   8   7     64     49  56"
      ]
     },
     "execution_count": 5,
     "metadata": {},
     "output_type": "execute_result"
    }
   ],
   "source": [
    "df[\"xy\"] = np.multiply(df[\"x\"], df[\"y\"])\n",
    "df"
   ]
  },
  {
   "cell_type": "markdown",
   "id": "f3157763",
   "metadata": {},
   "source": [
    "Now we will calculate $\\bar{x}$ and $\\bar{y}$"
   ]
  },
  {
   "cell_type": "code",
   "execution_count": 6,
   "id": "f0d757da",
   "metadata": {},
   "outputs": [
    {
     "name": "stdout",
     "output_type": "stream",
     "text": [
      "6.0 8.0\n"
     ]
    }
   ],
   "source": [
    "x_bar = np.sum(df[\"x\"]) / len(df)\n",
    "y_bar = np.sum(df[\"y\"]) / len(df)\n",
    "\n",
    "print(x_bar, y_bar)"
   ]
  },
  {
   "cell_type": "markdown",
   "id": "1bb367a0",
   "metadata": {},
   "source": [
    "Calculate $\\bar{x} ^ 2$"
   ]
  },
  {
   "cell_type": "code",
   "execution_count": 7,
   "id": "74de6c33",
   "metadata": {},
   "outputs": [
    {
     "name": "stdout",
     "output_type": "stream",
     "text": [
      "36.0 64.0\n"
     ]
    }
   ],
   "source": [
    "x_bar_sqr = np.square(x_bar)\n",
    "y_bar_sqr = np.square(y_bar)\n",
    "\n",
    "print(x_bar_sqr, y_bar_sqr)"
   ]
  },
  {
   "cell_type": "code",
   "execution_count": 8,
   "id": "50186df5",
   "metadata": {},
   "outputs": [
    {
     "name": "stdout",
     "output_type": "stream",
     "text": [
      "8.0 4.0\n"
     ]
    }
   ],
   "source": [
    "sigma_x_sqr = (1 / len(df) * (np.sum(df[\"x_sqr\"]))) - x_bar_sqr\n",
    "sigma_y_sqr = (1 / len(df) * (np.sum(df[\"y_sqr\"]))) - y_bar_sqr\n",
    "\n",
    "print(sigma_x_sqr, sigma_y_sqr)"
   ]
  },
  {
   "cell_type": "code",
   "execution_count": 9,
   "id": "34223f85",
   "metadata": {},
   "outputs": [
    {
     "name": "stdout",
     "output_type": "stream",
     "text": [
      "-5.2\n"
     ]
    }
   ],
   "source": [
    "covariance = np.round((1 / len(df) * np.sum(df[\"xy\"])) - x_bar * y_bar, decimals=1)\n",
    "print(covariance)"
   ]
  },
  {
   "cell_type": "markdown",
   "id": "779840c7",
   "metadata": {},
   "source": [
    "Calculate the **Coefficient**"
   ]
  },
  {
   "cell_type": "code",
   "execution_count": 13,
   "id": "ed408068",
   "metadata": {},
   "outputs": [
    {
     "name": "stdout",
     "output_type": "stream",
     "text": [
      "-0.65\n"
     ]
    }
   ],
   "source": [
    "byx = covariance / sigma_x_sqr # coefficient\n",
    "\n",
    "print(byx)"
   ]
  },
  {
   "cell_type": "markdown",
   "id": "8c72e751",
   "metadata": {},
   "source": []
  },
  {
   "cell_type": "markdown",
   "id": "3a1918e4",
   "metadata": {},
   "source": [
    "Calculate the **Intercept**"
   ]
  },
  {
   "cell_type": "code",
   "execution_count": 14,
   "id": "6ade5e92",
   "metadata": {},
   "outputs": [
    {
     "name": "stdout",
     "output_type": "stream",
     "text": [
      "11.9\n"
     ]
    }
   ],
   "source": [
    "intercept = - byx * x_bar + y_bar\n",
    "\n",
    "print(intercept)"
   ]
  },
  {
   "cell_type": "markdown",
   "id": "6544f588",
   "metadata": {},
   "source": [
    "Regression Equation is: y = byx * x + intercept"
   ]
  },
  {
   "cell_type": "markdown",
   "id": "d8c722fe",
   "metadata": {},
   "source": [
    "### Testing on Example"
   ]
  },
  {
   "cell_type": "code",
   "execution_count": 15,
   "id": "a065fd50",
   "metadata": {},
   "outputs": [
    {
     "name": "stdout",
     "output_type": "stream",
     "text": [
      "10.6\n"
     ]
    }
   ],
   "source": [
    "x = 2\n",
    "\n",
    "y = byx * x + intercept\n",
    "print(y)"
   ]
  },
  {
   "cell_type": "code",
   "execution_count": 16,
   "id": "51836eb8",
   "metadata": {},
   "outputs": [
    {
     "name": "stdout",
     "output_type": "stream",
     "text": [
      "9.95\n"
     ]
    }
   ],
   "source": [
    "x = 3\n",
    "\n",
    "y = byx * x + intercept\n",
    "print(y)"
   ]
  },
  {
   "cell_type": "markdown",
   "id": "3cc67683",
   "metadata": {},
   "source": [
    "# Training on Model Class\n",
    "\n",
    "Now we will create same model using the Linear Regression Class"
   ]
  },
  {
   "cell_type": "code",
   "execution_count": 18,
   "id": "b5fa87a3",
   "metadata": {},
   "outputs": [],
   "source": [
    "from sklearn.linear_model import LinearRegression\n",
    "\n",
    "# Create a Instance of Linear Regression Model\n",
    "lr = LinearRegression()"
   ]
  },
  {
   "cell_type": "markdown",
   "id": "e506afb1",
   "metadata": {},
   "source": [
    "Separate Data"
   ]
  },
  {
   "cell_type": "code",
   "execution_count": 19,
   "id": "79c731a0",
   "metadata": {},
   "outputs": [],
   "source": [
    "X = df[\"x\"].values\n",
    "y = df[\"y\"].values"
   ]
  },
  {
   "cell_type": "code",
   "execution_count": 20,
   "id": "c1851718",
   "metadata": {},
   "outputs": [],
   "source": [
    "X = X.reshape(-1, 1)\n",
    "y = y.reshape(-1, 1)"
   ]
  },
  {
   "cell_type": "code",
   "execution_count": 21,
   "id": "167ecf7a",
   "metadata": {},
   "outputs": [
    {
     "data": {
      "text/plain": [
       "array([[ 6],\n",
       "       [ 2],\n",
       "       [10],\n",
       "       [ 4],\n",
       "       [ 8]], dtype=int64)"
      ]
     },
     "execution_count": 21,
     "metadata": {},
     "output_type": "execute_result"
    }
   ],
   "source": [
    "X"
   ]
  },
  {
   "cell_type": "code",
   "execution_count": 22,
   "id": "cff2eab5",
   "metadata": {},
   "outputs": [
    {
     "data": {
      "text/plain": [
       "array([[ 9],\n",
       "       [11],\n",
       "       [ 5],\n",
       "       [ 8],\n",
       "       [ 7]], dtype=int64)"
      ]
     },
     "execution_count": 22,
     "metadata": {},
     "output_type": "execute_result"
    }
   ],
   "source": [
    "y"
   ]
  },
  {
   "cell_type": "markdown",
   "id": "fa5ae707",
   "metadata": {},
   "source": [
    "Fit the Model to data"
   ]
  },
  {
   "cell_type": "code",
   "execution_count": 24,
   "id": "c9fa5d41",
   "metadata": {},
   "outputs": [
    {
     "data": {
      "text/plain": [
       "LinearRegression()"
      ]
     },
     "execution_count": 24,
     "metadata": {},
     "output_type": "execute_result"
    }
   ],
   "source": [
    "lr.fit(X, y)"
   ]
  },
  {
   "cell_type": "markdown",
   "id": "42bc8574",
   "metadata": {},
   "source": [
    "### Testing Model on Example"
   ]
  },
  {
   "cell_type": "code",
   "execution_count": 25,
   "id": "f013f1a2",
   "metadata": {},
   "outputs": [
    {
     "data": {
      "text/plain": [
       "array([[10.6]])"
      ]
     },
     "execution_count": 25,
     "metadata": {},
     "output_type": "execute_result"
    }
   ],
   "source": [
    "lr.predict([[2]])"
   ]
  },
  {
   "cell_type": "code",
   "execution_count": 26,
   "id": "90282558",
   "metadata": {},
   "outputs": [
    {
     "data": {
      "text/plain": [
       "array([[6.05]])"
      ]
     },
     "execution_count": 26,
     "metadata": {},
     "output_type": "execute_result"
    }
   ],
   "source": [
    "lr.predict([[9]])"
   ]
  },
  {
   "cell_type": "markdown",
   "id": "4b73d63e",
   "metadata": {},
   "source": [
    "Coeffiecient of the Model"
   ]
  },
  {
   "cell_type": "code",
   "execution_count": 20,
   "id": "ec92be2a",
   "metadata": {},
   "outputs": [
    {
     "data": {
      "text/plain": [
       "array([[-0.65]])"
      ]
     },
     "execution_count": 20,
     "metadata": {},
     "output_type": "execute_result"
    }
   ],
   "source": [
    "lr.coef_"
   ]
  },
  {
   "cell_type": "markdown",
   "id": "1937c623",
   "metadata": {},
   "source": [
    "Intercept of the Model"
   ]
  },
  {
   "cell_type": "code",
   "execution_count": 21,
   "id": "9b58e35b",
   "metadata": {},
   "outputs": [
    {
     "data": {
      "text/plain": [
       "array([11.9])"
      ]
     },
     "execution_count": 21,
     "metadata": {},
     "output_type": "execute_result"
    }
   ],
   "source": [
    "lr.intercept_"
   ]
  }
 ],
 "metadata": {
  "kernelspec": {
   "display_name": "Python 3 (ipykernel)",
   "language": "python",
   "name": "python3"
  },
  "language_info": {
   "codemirror_mode": {
    "name": "ipython",
    "version": 3
   },
   "file_extension": ".py",
   "mimetype": "text/x-python",
   "name": "python",
   "nbconvert_exporter": "python",
   "pygments_lexer": "ipython3",
   "version": "3.9.12"
  }
 },
 "nbformat": 4,
 "nbformat_minor": 5
}
