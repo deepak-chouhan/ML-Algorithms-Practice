{
 "cells": [
  {
   "cell_type": "markdown",
   "id": "613bfd43",
   "metadata": {},
   "source": [
    "# Naive Bayes Mathematics\n",
    "\n",
    "Naive Bayes is a supervised ml algorithm which works in basis of **Bayes Theorem**. It predicts the results using the probability of another event occuring\n",
    "\n",
    "![Image](https://miro.medium.com/max/500/1*IGwM9cb8W-gyJW5rkiVQPw.jpeg)\n",
    "\n",
    "![Image](https://miro.medium.com/max/1000/1*aoKlzTs3w5tomWWxZGr81g.png)"
   ]
  },
  {
   "cell_type": "markdown",
   "id": "c7340a00",
   "metadata": {},
   "source": [
    "## Importing Libraries"
   ]
  },
  {
   "cell_type": "code",
   "execution_count": 1,
   "id": "d36f2fd2",
   "metadata": {},
   "outputs": [],
   "source": [
    "import pandas as pd\n",
    "import numpy as np\n",
    "import matplotlib.pyplot as plt"
   ]
  },
  {
   "cell_type": "markdown",
   "id": "3bf567bf",
   "metadata": {},
   "source": [
    "## Importing Dataset"
   ]
  },
  {
   "cell_type": "code",
   "execution_count": 2,
   "id": "a901730b",
   "metadata": {},
   "outputs": [
    {
     "data": {
      "text/html": [
       "<div>\n",
       "<style scoped>\n",
       "    .dataframe tbody tr th:only-of-type {\n",
       "        vertical-align: middle;\n",
       "    }\n",
       "\n",
       "    .dataframe tbody tr th {\n",
       "        vertical-align: top;\n",
       "    }\n",
       "\n",
       "    .dataframe thead th {\n",
       "        text-align: right;\n",
       "    }\n",
       "</style>\n",
       "<table border=\"1\" class=\"dataframe\">\n",
       "  <thead>\n",
       "    <tr style=\"text-align: right;\">\n",
       "      <th></th>\n",
       "      <th>age</th>\n",
       "      <th>income</th>\n",
       "      <th>student</th>\n",
       "      <th>credit_rating</th>\n",
       "      <th>buys_computer</th>\n",
       "    </tr>\n",
       "  </thead>\n",
       "  <tbody>\n",
       "    <tr>\n",
       "      <th>0</th>\n",
       "      <td>30</td>\n",
       "      <td>high</td>\n",
       "      <td>no</td>\n",
       "      <td>fair</td>\n",
       "      <td>no</td>\n",
       "    </tr>\n",
       "    <tr>\n",
       "      <th>1</th>\n",
       "      <td>30</td>\n",
       "      <td>high</td>\n",
       "      <td>no</td>\n",
       "      <td>excellent</td>\n",
       "      <td>no</td>\n",
       "    </tr>\n",
       "    <tr>\n",
       "      <th>2</th>\n",
       "      <td>35</td>\n",
       "      <td>high</td>\n",
       "      <td>no</td>\n",
       "      <td>fair</td>\n",
       "      <td>yes</td>\n",
       "    </tr>\n",
       "    <tr>\n",
       "      <th>3</th>\n",
       "      <td>40</td>\n",
       "      <td>medium</td>\n",
       "      <td>no</td>\n",
       "      <td>fair</td>\n",
       "      <td>yes</td>\n",
       "    </tr>\n",
       "    <tr>\n",
       "      <th>4</th>\n",
       "      <td>40</td>\n",
       "      <td>low</td>\n",
       "      <td>yes</td>\n",
       "      <td>fair</td>\n",
       "      <td>yes</td>\n",
       "    </tr>\n",
       "    <tr>\n",
       "      <th>5</th>\n",
       "      <td>40</td>\n",
       "      <td>low</td>\n",
       "      <td>yes</td>\n",
       "      <td>excellent</td>\n",
       "      <td>no</td>\n",
       "    </tr>\n",
       "    <tr>\n",
       "      <th>6</th>\n",
       "      <td>35</td>\n",
       "      <td>low</td>\n",
       "      <td>yes</td>\n",
       "      <td>excellent</td>\n",
       "      <td>yes</td>\n",
       "    </tr>\n",
       "    <tr>\n",
       "      <th>7</th>\n",
       "      <td>30</td>\n",
       "      <td>medium</td>\n",
       "      <td>no</td>\n",
       "      <td>fair</td>\n",
       "      <td>no</td>\n",
       "    </tr>\n",
       "    <tr>\n",
       "      <th>8</th>\n",
       "      <td>30</td>\n",
       "      <td>low</td>\n",
       "      <td>yes</td>\n",
       "      <td>fair</td>\n",
       "      <td>yes</td>\n",
       "    </tr>\n",
       "    <tr>\n",
       "      <th>9</th>\n",
       "      <td>40</td>\n",
       "      <td>medium</td>\n",
       "      <td>yes</td>\n",
       "      <td>fair</td>\n",
       "      <td>yes</td>\n",
       "    </tr>\n",
       "    <tr>\n",
       "      <th>10</th>\n",
       "      <td>30</td>\n",
       "      <td>medium</td>\n",
       "      <td>yes</td>\n",
       "      <td>excellent</td>\n",
       "      <td>yes</td>\n",
       "    </tr>\n",
       "    <tr>\n",
       "      <th>11</th>\n",
       "      <td>35</td>\n",
       "      <td>medium</td>\n",
       "      <td>no</td>\n",
       "      <td>excellent</td>\n",
       "      <td>yes</td>\n",
       "    </tr>\n",
       "    <tr>\n",
       "      <th>12</th>\n",
       "      <td>35</td>\n",
       "      <td>high</td>\n",
       "      <td>yes</td>\n",
       "      <td>fair</td>\n",
       "      <td>yes</td>\n",
       "    </tr>\n",
       "    <tr>\n",
       "      <th>13</th>\n",
       "      <td>40</td>\n",
       "      <td>medium</td>\n",
       "      <td>no</td>\n",
       "      <td>excellent</td>\n",
       "      <td>no</td>\n",
       "    </tr>\n",
       "  </tbody>\n",
       "</table>\n",
       "</div>"
      ],
      "text/plain": [
       "    age  income student credit_rating buys_computer\n",
       "0    30    high      no          fair            no\n",
       "1    30    high      no     excellent            no\n",
       "2    35    high      no          fair           yes\n",
       "3    40  medium      no          fair           yes\n",
       "4    40     low     yes          fair           yes\n",
       "5    40     low     yes     excellent            no\n",
       "6    35     low     yes     excellent           yes\n",
       "7    30  medium      no          fair            no\n",
       "8    30     low     yes          fair           yes\n",
       "9    40  medium     yes          fair           yes\n",
       "10   30  medium     yes     excellent           yes\n",
       "11   35  medium      no     excellent           yes\n",
       "12   35    high     yes          fair           yes\n",
       "13   40  medium      no     excellent            no"
      ]
     },
     "execution_count": 2,
     "metadata": {},
     "output_type": "execute_result"
    }
   ],
   "source": [
    "df = pd.read_csv(\"./computer_data.csv\")\n",
    "df"
   ]
  },
  {
   "cell_type": "markdown",
   "id": "74abdd25",
   "metadata": {},
   "source": [
    "## Calculation for Naive Bayes"
   ]
  },
  {
   "cell_type": "markdown",
   "id": "70c62203",
   "metadata": {},
   "source": [
    "There are 2 Classes:\n",
    "\n",
    "- C1: Product Not Purchased = NO\n",
    "- C2: Product Purchased = YES"
   ]
  },
  {
   "cell_type": "code",
   "execution_count": 3,
   "id": "a6559e12",
   "metadata": {},
   "outputs": [
    {
     "data": {
      "text/plain": [
       "14"
      ]
     },
     "execution_count": 3,
     "metadata": {},
     "output_type": "execute_result"
    }
   ],
   "source": [
    "# Total Records in Data\n",
    "total = len(df)\n",
    "total"
   ]
  },
  {
   "cell_type": "code",
   "execution_count": 4,
   "id": "5a23d945",
   "metadata": {},
   "outputs": [],
   "source": [
    "# Count of Product Purchased is\n",
    "p_purchased_count = len(df[df[\"buys_computer\"] == \"yes\"])\n",
    "\n",
    "# Count of Product Not Purchased is\n",
    "p_not_purchased_count = len(df[df[\"buys_computer\"] == \"no\"])"
   ]
  },
  {
   "cell_type": "code",
   "execution_count": 5,
   "id": "eb87d68c",
   "metadata": {},
   "outputs": [
    {
     "data": {
      "text/plain": [
       "0.6428571428571429"
      ]
     },
     "execution_count": 5,
     "metadata": {},
     "output_type": "execute_result"
    }
   ],
   "source": [
    "# Probability of Product Purchases is\n",
    "\n",
    "p_purchased =  p_purchased_count / total\n",
    "p_purchased"
   ]
  },
  {
   "cell_type": "code",
   "execution_count": 6,
   "id": "fba1772f",
   "metadata": {},
   "outputs": [
    {
     "data": {
      "text/plain": [
       "0.35714285714285715"
      ]
     },
     "execution_count": 6,
     "metadata": {},
     "output_type": "execute_result"
    }
   ],
   "source": [
    "# Probability of Product Not Purchases is\n",
    "\n",
    "p_not_purchased = p_not_purchased_count / total\n",
    "p_not_purchased"
   ]
  },
  {
   "cell_type": "markdown",
   "id": "25824305",
   "metadata": {},
   "source": [
    "## Predicting New Results\n",
    "\n",
    "Now we will predict if user buys computer or not for\n",
    "\n",
    "X = (age = 30 , income = medium, student = yes, credit_rating = fair)"
   ]
  },
  {
   "cell_type": "code",
   "execution_count": 7,
   "id": "a5d3a4bc",
   "metadata": {},
   "outputs": [],
   "source": [
    "x = [30, \"medium\", \"yes\", \"fair\"]"
   ]
  },
  {
   "cell_type": "markdown",
   "id": "2815cf98",
   "metadata": {},
   "source": [
    "We will Compute P(X|Ci) for each class"
   ]
  },
  {
   "cell_type": "markdown",
   "id": "9aeaec3e",
   "metadata": {},
   "source": [
    " Compute P(Age|Ci)"
   ]
  },
  {
   "cell_type": "code",
   "execution_count": 8,
   "id": "44a48ec2",
   "metadata": {},
   "outputs": [
    {
     "name": "stdout",
     "output_type": "stream",
     "text": [
      "Probability of Age = 30 and Computer Purchased is 0.2222222222222222\n",
      "Probability of Age = 30 and Computer Not Purchased is 0.6\n"
     ]
    }
   ],
   "source": [
    "p_age_yes = len(df[(df[\"age\"] == x[0]) & (df[\"buys_computer\"] == \"yes\")]) / p_purchased_count\n",
    "print(\"Probability of Age = 30 and Computer Purchased is\", p_age_yes)\n",
    "\n",
    "p_age_no = len(df[(df[\"age\"] == x[0]) & (df[\"buys_computer\"] == \"no\")]) / p_not_purchased_count\n",
    "print(\"Probability of Age = 30 and Computer Not Purchased is\", p_age_no)"
   ]
  },
  {
   "cell_type": "markdown",
   "id": "e4c4e6f1",
   "metadata": {},
   "source": [
    " Compute P(Income|Ci)"
   ]
  },
  {
   "cell_type": "code",
   "execution_count": 9,
   "id": "a260036b",
   "metadata": {},
   "outputs": [
    {
     "name": "stdout",
     "output_type": "stream",
     "text": [
      "Probability of Age = 30 and Computer Purchased is 0.4444444444444444\n",
      "Probability of Age = 30 and Computer Not Purchased is 0.4\n"
     ]
    }
   ],
   "source": [
    "p_income_yes = len(df[(df[\"income\"] == x[1]) & (df[\"buys_computer\"] == \"yes\")]) / p_purchased_count\n",
    "print(\"Probability of Age = 30 and Computer Purchased is\", p_income_yes)\n",
    "\n",
    "p_income_no = len(df[(df[\"income\"] == x[1]) & (df[\"buys_computer\"] == \"no\")]) / p_not_purchased_count\n",
    "print(\"Probability of Age = 30 and Computer Not Purchased is\", p_income_no)"
   ]
  },
  {
   "cell_type": "markdown",
   "id": "7cc411f3",
   "metadata": {},
   "source": [
    " Compute P(student|Ci)"
   ]
  },
  {
   "cell_type": "code",
   "execution_count": 10,
   "id": "eaa7eb15",
   "metadata": {},
   "outputs": [
    {
     "name": "stdout",
     "output_type": "stream",
     "text": [
      "Probability of Age = 30 and Computer Purchased is 0.6666666666666666\n",
      "Probability of Age = 30 and Computer Not Purchased is 0.2\n"
     ]
    }
   ],
   "source": [
    "p_student_yes = len(df[(df[\"student\"] == x[2]) & (df[\"buys_computer\"] == \"yes\")]) / p_purchased_count\n",
    "print(\"Probability of Age = 30 and Computer Purchased is\", p_student_yes)\n",
    "\n",
    "p_student_no = len(df[(df[\"student\"] == x[2]) & (df[\"buys_computer\"] == \"no\")]) / p_not_purchased_count\n",
    "print(\"Probability of Age = 30 and Computer Not Purchased is\", p_student_no)"
   ]
  },
  {
   "cell_type": "markdown",
   "id": "a0095e9e",
   "metadata": {},
   "source": [
    " Compute P(credit_rating|Ci)"
   ]
  },
  {
   "cell_type": "code",
   "execution_count": 11,
   "id": "4e1a08bc",
   "metadata": {},
   "outputs": [
    {
     "name": "stdout",
     "output_type": "stream",
     "text": [
      "Probability of Age = 30 and Computer Purchased is 0.6666666666666666\n",
      "Probability of Age = 30 and Computer Not Purchased is 0.4\n"
     ]
    }
   ],
   "source": [
    "p_credit_yes = len(df[(df[\"credit_rating\"] == x[3]) & (df[\"buys_computer\"] == \"yes\")]) / p_purchased_count\n",
    "print(\"Probability of Age = 30 and Computer Purchased is\", p_credit_yes)\n",
    "\n",
    "p_credit_no = len(df[(df[\"credit_rating\"] == x[3]) & (df[\"buys_computer\"] == \"no\")]) / p_not_purchased_count\n",
    "print(\"Probability of Age = 30 and Computer Not Purchased is\", p_credit_no)"
   ]
  },
  {
   "cell_type": "markdown",
   "id": "b9853be6",
   "metadata": {},
   "source": [
    "Now multiply probability for each class"
   ]
  },
  {
   "cell_type": "markdown",
   "id": "628623a0",
   "metadata": {},
   "source": [
    "Mutlitplying P(X | \"yes\")"
   ]
  },
  {
   "cell_type": "code",
   "execution_count": 12,
   "id": "9b77325c",
   "metadata": {},
   "outputs": [
    {
     "data": {
      "text/plain": [
       "0.04389574759945129"
      ]
     },
     "execution_count": 12,
     "metadata": {},
     "output_type": "execute_result"
    }
   ],
   "source": [
    "# Probability of buying computer\n",
    "p_yes = p_age_yes * p_income_yes * p_student_yes * p_credit_yes\n",
    "p_yes"
   ]
  },
  {
   "cell_type": "code",
   "execution_count": 13,
   "id": "b844cc98",
   "metadata": {},
   "outputs": [
    {
     "data": {
      "text/plain": [
       "0.019200000000000002"
      ]
     },
     "execution_count": 13,
     "metadata": {},
     "output_type": "execute_result"
    }
   ],
   "source": [
    "# Probability of not buying computer\n",
    "p_no = p_age_no * p_income_no * p_student_no * p_credit_no\n",
    "p_no"
   ]
  },
  {
   "cell_type": "markdown",
   "id": "167ee166",
   "metadata": {},
   "source": [
    "Normalizing the probability\n",
    "\n",
    "P(Yes) = $\\frac {P(Yes)} {P(Yes) + P(No)}$\n",
    "\n",
    "P(No) = $\\frac {P(No)} {P(Yes) + P(No)}$"
   ]
  },
  {
   "cell_type": "code",
   "execution_count": 14,
   "id": "fb1ff897",
   "metadata": {},
   "outputs": [
    {
     "name": "stdout",
     "output_type": "stream",
     "text": [
      "The Probability that user will buy computer is 70%\n"
     ]
    }
   ],
   "source": [
    "# Normalized probability of buying computer\n",
    "p_yes_normalized = p_yes / (p_yes + p_no)\n",
    "p_yes_normalized\n",
    "\n",
    "print(f\"The Probability that user will buy computer is {round(p_yes_normalized * 100)}%\")"
   ]
  },
  {
   "cell_type": "code",
   "execution_count": 15,
   "id": "88bcb241",
   "metadata": {},
   "outputs": [
    {
     "name": "stdout",
     "output_type": "stream",
     "text": [
      "The Probability that user will no buy computer is 30%\n"
     ]
    }
   ],
   "source": [
    "p_no_normalized = p_no / (p_yes + p_no)\n",
    "p_no_normalized\n",
    "\n",
    "print(f\"The Probability that user will no buy computer is {round(p_no_normalized * 100)}%\")"
   ]
  },
  {
   "cell_type": "code",
   "execution_count": null,
   "id": "ff9d68cf",
   "metadata": {},
   "outputs": [],
   "source": []
  }
 ],
 "metadata": {
  "kernelspec": {
   "display_name": "Python 3 (ipykernel)",
   "language": "python",
   "name": "python3"
  },
  "language_info": {
   "codemirror_mode": {
    "name": "ipython",
    "version": 3
   },
   "file_extension": ".py",
   "mimetype": "text/x-python",
   "name": "python",
   "nbconvert_exporter": "python",
   "pygments_lexer": "ipython3",
   "version": "3.9.12"
  }
 },
 "nbformat": 4,
 "nbformat_minor": 5
}
